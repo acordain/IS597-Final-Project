{
 "cells": [
  {
   "cell_type": "markdown",
   "id": "d350bc89",
   "metadata": {},
   "source": [
    "# How to Run"
   ]
  },
  {
   "cell_type": "code",
   "execution_count": 1,
   "id": "d6233419",
   "metadata": {},
   "outputs": [],
   "source": [
    "\"\"\"\n",
    "Run all code cells from top to bottom.\n",
    "The entire notebook takes ~35 minutes to run\n",
    "on an ml.g5.xlarge instance type,\n",
    "and will emit a beep to signal its completion.\n",
    "\n",
    "The drug targeted for prediction in Q3 can be set below.\n",
    "Levonorgestrel has the most reviews in the dataset,\n",
    "and is the default value so as to provide\n",
    "the largest possible ratio compared to all other drugs.\n",
    "\n",
    "\"\"\"\n",
    "\n",
    "\n",
    "# Enter drug to predict in Q3\n",
    "target_drug = 'Levonorgestrel'\n"
   ]
  },
  {
   "cell_type": "markdown",
   "id": "1295842d",
   "metadata": {},
   "source": [
    "# Data Loading"
   ]
  },
  {
   "cell_type": "markdown",
   "id": "00a4c444",
   "metadata": {},
   "source": [
    "## Import Data"
   ]
  },
  {
   "cell_type": "code",
   "execution_count": 2,
   "id": "240cac47",
   "metadata": {},
   "outputs": [
    {
     "name": "stderr",
     "output_type": "stream",
     "text": [
      "[nltk_data] Downloading package omw-1.4 to /home/ec2-user/nltk_data...\n",
      "[nltk_data]   Package omw-1.4 is already up-to-date!\n",
      "[nltk_data] Downloading package punkt to /home/ec2-user/nltk_data...\n",
      "[nltk_data]   Package punkt is already up-to-date!\n",
      "[nltk_data] Downloading package stopwords to\n",
      "[nltk_data]     /home/ec2-user/nltk_data...\n",
      "[nltk_data]   Package stopwords is already up-to-date!\n",
      "[nltk_data] Downloading package wordnet to /home/ec2-user/nltk_data...\n",
      "[nltk_data]   Package wordnet is already up-to-date!\n"
     ]
    },
    {
     "name": "stdout",
     "output_type": "stream",
     "text": [
      "Requirement already satisfied: ucimlrepo in /home/ec2-user/anaconda3/envs/python3/lib/python3.10/site-packages (0.0.7)\n",
      "Requirement already satisfied: pandas>=1.0.0 in /home/ec2-user/anaconda3/envs/python3/lib/python3.10/site-packages (from ucimlrepo) (2.2.2)\n",
      "Requirement already satisfied: certifi>=2020.12.5 in /home/ec2-user/anaconda3/envs/python3/lib/python3.10/site-packages (from ucimlrepo) (2024.6.2)\n",
      "Requirement already satisfied: numpy>=1.22.4 in /home/ec2-user/anaconda3/envs/python3/lib/python3.10/site-packages (from pandas>=1.0.0->ucimlrepo) (1.22.4)\n",
      "Requirement already satisfied: python-dateutil>=2.8.2 in /home/ec2-user/anaconda3/envs/python3/lib/python3.10/site-packages (from pandas>=1.0.0->ucimlrepo) (2.9.0)\n",
      "Requirement already satisfied: pytz>=2020.1 in /home/ec2-user/anaconda3/envs/python3/lib/python3.10/site-packages (from pandas>=1.0.0->ucimlrepo) (2024.1)\n",
      "Requirement already satisfied: tzdata>=2022.7 in /home/ec2-user/anaconda3/envs/python3/lib/python3.10/site-packages (from pandas>=1.0.0->ucimlrepo) (2024.1)\n",
      "Requirement already satisfied: six>=1.5 in /home/ec2-user/anaconda3/envs/python3/lib/python3.10/site-packages (from python-dateutil>=2.8.2->pandas>=1.0.0->ucimlrepo) (1.16.0)\n"
     ]
    },
    {
     "data": {
      "text/html": [
       "<div>\n",
       "<style scoped>\n",
       "    .dataframe tbody tr th:only-of-type {\n",
       "        vertical-align: middle;\n",
       "    }\n",
       "\n",
       "    .dataframe tbody tr th {\n",
       "        vertical-align: top;\n",
       "    }\n",
       "\n",
       "    .dataframe thead th {\n",
       "        text-align: right;\n",
       "    }\n",
       "</style>\n",
       "<table border=\"1\" class=\"dataframe\">\n",
       "  <thead>\n",
       "    <tr style=\"text-align: right;\">\n",
       "      <th></th>\n",
       "      <th>drugName</th>\n",
       "      <th>condition</th>\n",
       "      <th>review</th>\n",
       "      <th>rating</th>\n",
       "      <th>date</th>\n",
       "      <th>usefulCount</th>\n",
       "    </tr>\n",
       "  </thead>\n",
       "  <tbody>\n",
       "    <tr>\n",
       "      <th>0</th>\n",
       "      <td>Valsartan</td>\n",
       "      <td>Left Ventricular Dysfunction</td>\n",
       "      <td>\"It has no side effect, I take it in combination of Bystolic 5 Mg and Fish Oil\"</td>\n",
       "      <td>9</td>\n",
       "      <td>20-May-12</td>\n",
       "      <td>27</td>\n",
       "    </tr>\n",
       "    <tr>\n",
       "      <th>1</th>\n",
       "      <td>Guanfacine</td>\n",
       "      <td>ADHD</td>\n",
       "      <td>\"My son is halfway through his fourth week of Intuniv. We became concerned when he began this la...</td>\n",
       "      <td>8</td>\n",
       "      <td>27-Apr-10</td>\n",
       "      <td>192</td>\n",
       "    </tr>\n",
       "    <tr>\n",
       "      <th>2</th>\n",
       "      <td>Lybrel</td>\n",
       "      <td>Birth Control</td>\n",
       "      <td>\"I used to take another oral contraceptive, which had 21 pill cycle, and was very happy- very li...</td>\n",
       "      <td>5</td>\n",
       "      <td>14-Dec-09</td>\n",
       "      <td>17</td>\n",
       "    </tr>\n",
       "    <tr>\n",
       "      <th>3</th>\n",
       "      <td>Ortho Evra</td>\n",
       "      <td>Birth Control</td>\n",
       "      <td>\"This is my first time using any form of birth control. I&amp;#039;m glad I went with the patch, I h...</td>\n",
       "      <td>8</td>\n",
       "      <td>3-Nov-15</td>\n",
       "      <td>10</td>\n",
       "    </tr>\n",
       "    <tr>\n",
       "      <th>4</th>\n",
       "      <td>Buprenorphine / naloxone</td>\n",
       "      <td>Opiate Dependence</td>\n",
       "      <td>\"Suboxone has completely turned my life around.  I feel healthier, I&amp;#039;m excelling at my job ...</td>\n",
       "      <td>9</td>\n",
       "      <td>27-Nov-16</td>\n",
       "      <td>37</td>\n",
       "    </tr>\n",
       "    <tr>\n",
       "      <th>...</th>\n",
       "      <td>...</td>\n",
       "      <td>...</td>\n",
       "      <td>...</td>\n",
       "      <td>...</td>\n",
       "      <td>...</td>\n",
       "      <td>...</td>\n",
       "    </tr>\n",
       "    <tr>\n",
       "      <th>215058</th>\n",
       "      <td>Tamoxifen</td>\n",
       "      <td>Breast Cancer, Prevention</td>\n",
       "      <td>\"I have taken Tamoxifen for 5 years. Side effects are severe sweating and depression. I have bee...</td>\n",
       "      <td>10</td>\n",
       "      <td>13-Sep-14</td>\n",
       "      <td>43</td>\n",
       "    </tr>\n",
       "    <tr>\n",
       "      <th>215059</th>\n",
       "      <td>Escitalopram</td>\n",
       "      <td>Anxiety</td>\n",
       "      <td>\"I&amp;#039;ve been taking Lexapro (escitaploprgram) since February. First, I&amp;#039;d like to mention...</td>\n",
       "      <td>9</td>\n",
       "      <td>8-Oct-16</td>\n",
       "      <td>11</td>\n",
       "    </tr>\n",
       "    <tr>\n",
       "      <th>215060</th>\n",
       "      <td>Levonorgestrel</td>\n",
       "      <td>Birth Control</td>\n",
       "      <td>\"I&amp;#039;m married, 34 years old and I have no kids. Taking the pill was such a hassle so I decid...</td>\n",
       "      <td>8</td>\n",
       "      <td>15-Nov-10</td>\n",
       "      <td>7</td>\n",
       "    </tr>\n",
       "    <tr>\n",
       "      <th>215061</th>\n",
       "      <td>Tapentadol</td>\n",
       "      <td>Pain</td>\n",
       "      <td>\"I was prescribed Nucynta for severe neck/shoulder pain. After taking only 2, 75mg pills I was r...</td>\n",
       "      <td>1</td>\n",
       "      <td>28-Nov-11</td>\n",
       "      <td>20</td>\n",
       "    </tr>\n",
       "    <tr>\n",
       "      <th>215062</th>\n",
       "      <td>Arthrotec</td>\n",
       "      <td>Sciatica</td>\n",
       "      <td>\"It works!!!\"</td>\n",
       "      <td>9</td>\n",
       "      <td>13-Sep-09</td>\n",
       "      <td>46</td>\n",
       "    </tr>\n",
       "  </tbody>\n",
       "</table>\n",
       "<p>215063 rows × 6 columns</p>\n",
       "</div>"
      ],
      "text/plain": [
       "                        drugName                     condition  \\\n",
       "0                      Valsartan  Left Ventricular Dysfunction   \n",
       "1                     Guanfacine                          ADHD   \n",
       "2                         Lybrel                 Birth Control   \n",
       "3                     Ortho Evra                 Birth Control   \n",
       "4       Buprenorphine / naloxone             Opiate Dependence   \n",
       "...                          ...                           ...   \n",
       "215058                 Tamoxifen     Breast Cancer, Prevention   \n",
       "215059              Escitalopram                       Anxiety   \n",
       "215060            Levonorgestrel                 Birth Control   \n",
       "215061                Tapentadol                          Pain   \n",
       "215062                 Arthrotec                      Sciatica   \n",
       "\n",
       "                                                                                                     review  \\\n",
       "0                           \"It has no side effect, I take it in combination of Bystolic 5 Mg and Fish Oil\"   \n",
       "1       \"My son is halfway through his fourth week of Intuniv. We became concerned when he began this la...   \n",
       "2       \"I used to take another oral contraceptive, which had 21 pill cycle, and was very happy- very li...   \n",
       "3       \"This is my first time using any form of birth control. I&#039;m glad I went with the patch, I h...   \n",
       "4       \"Suboxone has completely turned my life around.  I feel healthier, I&#039;m excelling at my job ...   \n",
       "...                                                                                                     ...   \n",
       "215058  \"I have taken Tamoxifen for 5 years. Side effects are severe sweating and depression. I have bee...   \n",
       "215059  \"I&#039;ve been taking Lexapro (escitaploprgram) since February. First, I&#039;d like to mention...   \n",
       "215060  \"I&#039;m married, 34 years old and I have no kids. Taking the pill was such a hassle so I decid...   \n",
       "215061  \"I was prescribed Nucynta for severe neck/shoulder pain. After taking only 2, 75mg pills I was r...   \n",
       "215062                                                                                        \"It works!!!\"   \n",
       "\n",
       "        rating       date  usefulCount  \n",
       "0            9  20-May-12           27  \n",
       "1            8  27-Apr-10          192  \n",
       "2            5  14-Dec-09           17  \n",
       "3            8   3-Nov-15           10  \n",
       "4            9  27-Nov-16           37  \n",
       "...        ...        ...          ...  \n",
       "215058      10  13-Sep-14           43  \n",
       "215059       9   8-Oct-16           11  \n",
       "215060       8  15-Nov-10            7  \n",
       "215061       1  28-Nov-11           20  \n",
       "215062       9  13-Sep-09           46  \n",
       "\n",
       "[215063 rows x 6 columns]"
      ]
     },
     "execution_count": 2,
     "metadata": {},
     "output_type": "execute_result"
    }
   ],
   "source": [
    "# Import libraries, functions, and dataset\n",
    "from modules import *\n",
    "\n",
    "# Load dataset\n",
    "!pip3 install -U ucimlrepo \n",
    "from ucimlrepo import fetch_ucirepo\n",
    "\n",
    "drug_reviews_drugs_com = fetch_ucirepo(id=462) \n",
    "df = drug_reviews_drugs_com.data.features\n",
    "df\n"
   ]
  },
  {
   "cell_type": "markdown",
   "id": "a14369a1",
   "metadata": {},
   "source": [
    "## Data Cleaning"
   ]
  },
  {
   "cell_type": "code",
   "execution_count": 3,
   "id": "aa06c3ef",
   "metadata": {
    "scrolled": false
   },
   "outputs": [
    {
     "name": "stdout",
     "output_type": "stream",
     "text": [
      "\n",
      "********** Load Data ********************************\n",
      "\n",
      "No. of Rows: 215063\n",
      "No. of Columns: 6\n",
      "\n",
      "********** Data Cleaning *****************************\n",
      "\n",
      "No. of rows (After removing duplicates): 128759\n",
      "\n",
      "No. of rows (After dropping null): 127920\n",
      "\n",
      "No. of rows (After dropping invalid Conditions): 127560\n",
      "\n",
      "********** Cleaning Review Data... *********************\n",
      "\n",
      "No. of columns used for processing: 5\n",
      "\n",
      "<Data View after Cleaning: First Few Instances>\n"
     ]
    },
    {
     "data": {
      "text/html": [
       "<div>\n",
       "<style scoped>\n",
       "    .dataframe tbody tr th:only-of-type {\n",
       "        vertical-align: middle;\n",
       "    }\n",
       "\n",
       "    .dataframe tbody tr th {\n",
       "        vertical-align: top;\n",
       "    }\n",
       "\n",
       "    .dataframe thead th {\n",
       "        text-align: right;\n",
       "    }\n",
       "</style>\n",
       "<table border=\"1\" class=\"dataframe\">\n",
       "  <thead>\n",
       "    <tr style=\"text-align: right;\">\n",
       "      <th></th>\n",
       "      <th>drugName</th>\n",
       "      <th>condition</th>\n",
       "      <th>review</th>\n",
       "      <th>cleaned_review</th>\n",
       "      <th>rating</th>\n",
       "    </tr>\n",
       "  </thead>\n",
       "  <tbody>\n",
       "    <tr>\n",
       "      <th>9892</th>\n",
       "      <td>A + D Cracked Skin Relief</td>\n",
       "      <td>Bacterial Skin Infection</td>\n",
       "      <td>\"I have severe cracked skin on my hands.  I've tried many different products - my skin is extrem...</td>\n",
       "      <td>\"I have severe cracked skin on my hands.  I've tried many different products - my skin is extrem...</td>\n",
       "      <td>10</td>\n",
       "    </tr>\n",
       "    <tr>\n",
       "      <th>170388</th>\n",
       "      <td>A / B Otic</td>\n",
       "      <td>Otitis Media</td>\n",
       "      <td>\"These drops helped me so much. I was in severe pain for 8 days before I finally found a doctor ...</td>\n",
       "      <td>\"These drops helped me so much. I was in severe pain for 8 days before I finally found  doctor w...</td>\n",
       "      <td>10</td>\n",
       "    </tr>\n",
       "    <tr>\n",
       "      <th>18402</th>\n",
       "      <td>A / B Otic</td>\n",
       "      <td>Otitis Media</td>\n",
       "      <td>\"It numbs the pain. It makes my ear feel heavier - but at least the throbbing subsides. I always...</td>\n",
       "      <td>\"It numbs the pain. It makes my ear feel heavier - but at least the throbbing subsides. I always...</td>\n",
       "      <td>10</td>\n",
       "    </tr>\n",
       "    <tr>\n",
       "      <th>10591</th>\n",
       "      <td>Abacavir / dolutegravir / lamivudine</td>\n",
       "      <td>HIV Infection</td>\n",
       "      <td>\"I am NOT new to HIV or HIV treatment. I've known my status since 1994 (1st test). I have been t...</td>\n",
       "      <td>\"I am NOT new to HIV or HIV treatment. I've known my status since 1994 (1st test). I have been t...</td>\n",
       "      <td>1</td>\n",
       "    </tr>\n",
       "    <tr>\n",
       "      <th>112230</th>\n",
       "      <td>Abacavir / dolutegravir / lamivudine</td>\n",
       "      <td>HIV Infection</td>\n",
       "      <td>\"I got diagnosis very early, within 7 days after getting infected. Decided to start therapy righ...</td>\n",
       "      <td>\"I got diagnosis very early, within  days after getting infected. Decided to start therapy right...</td>\n",
       "      <td>10</td>\n",
       "    </tr>\n",
       "  </tbody>\n",
       "</table>\n",
       "</div>"
      ],
      "text/plain": [
       "                                    drugName                 condition  \\\n",
       "9892               A + D Cracked Skin Relief  Bacterial Skin Infection   \n",
       "170388                            A / B Otic              Otitis Media   \n",
       "18402                             A / B Otic              Otitis Media   \n",
       "10591   Abacavir / dolutegravir / lamivudine             HIV Infection   \n",
       "112230  Abacavir / dolutegravir / lamivudine             HIV Infection   \n",
       "\n",
       "                                                                                                     review  \\\n",
       "9892    \"I have severe cracked skin on my hands.  I've tried many different products - my skin is extrem...   \n",
       "170388  \"These drops helped me so much. I was in severe pain for 8 days before I finally found a doctor ...   \n",
       "18402   \"It numbs the pain. It makes my ear feel heavier - but at least the throbbing subsides. I always...   \n",
       "10591   \"I am NOT new to HIV or HIV treatment. I've known my status since 1994 (1st test). I have been t...   \n",
       "112230  \"I got diagnosis very early, within 7 days after getting infected. Decided to start therapy righ...   \n",
       "\n",
       "                                                                                             cleaned_review  \\\n",
       "9892    \"I have severe cracked skin on my hands.  I've tried many different products - my skin is extrem...   \n",
       "170388  \"These drops helped me so much. I was in severe pain for 8 days before I finally found  doctor w...   \n",
       "18402   \"It numbs the pain. It makes my ear feel heavier - but at least the throbbing subsides. I always...   \n",
       "10591   \"I am NOT new to HIV or HIV treatment. I've known my status since 1994 (1st test). I have been t...   \n",
       "112230  \"I got diagnosis very early, within  days after getting infected. Decided to start therapy right...   \n",
       "\n",
       "        rating  \n",
       "9892        10  \n",
       "170388      10  \n",
       "18402       10  \n",
       "10591        1  \n",
       "112230      10  "
      ]
     },
     "metadata": {},
     "output_type": "display_data"
    }
   ],
   "source": [
    "cleaned_df = clean_data(df)\n"
   ]
  },
  {
   "cell_type": "markdown",
   "id": "0f1c090e",
   "metadata": {},
   "source": [
    "## Label Conversion"
   ]
  },
  {
   "cell_type": "code",
   "execution_count": 4,
   "id": "be639cb6",
   "metadata": {
    "scrolled": false
   },
   "outputs": [
    {
     "name": "stdout",
     "output_type": "stream",
     "text": [
      "********** Label Distribution of Target Classes ************\n",
      "\n",
      "Q1. Class Counts (label, row):\n",
      "label\n",
      "1    89714\n",
      "0    37846\n",
      "Name: count, dtype: int64\n",
      "\n",
      "Q1. Data View: X Data\n"
     ]
    },
    {
     "data": {
      "text/html": [
       "<div>\n",
       "<style scoped>\n",
       "    .dataframe tbody tr th:only-of-type {\n",
       "        vertical-align: middle;\n",
       "    }\n",
       "\n",
       "    .dataframe tbody tr th {\n",
       "        vertical-align: top;\n",
       "    }\n",
       "\n",
       "    .dataframe thead th {\n",
       "        text-align: right;\n",
       "    }\n",
       "</style>\n",
       "<table border=\"1\" class=\"dataframe\">\n",
       "  <thead>\n",
       "    <tr style=\"text-align: right;\">\n",
       "      <th></th>\n",
       "      <th>drugName</th>\n",
       "      <th>condition</th>\n",
       "      <th>review</th>\n",
       "      <th>label</th>\n",
       "    </tr>\n",
       "  </thead>\n",
       "  <tbody>\n",
       "    <tr>\n",
       "      <th>9892</th>\n",
       "      <td>A + D Cracked Skin Relief</td>\n",
       "      <td>Bacterial Skin Infection</td>\n",
       "      <td>\"I have severe cracked skin on my hands.  I've tried many different products - my skin is extrem...</td>\n",
       "      <td>1</td>\n",
       "    </tr>\n",
       "    <tr>\n",
       "      <th>170388</th>\n",
       "      <td>A / B Otic</td>\n",
       "      <td>Otitis Media</td>\n",
       "      <td>\"These drops helped me so much. I was in severe pain for 8 days before I finally found a doctor ...</td>\n",
       "      <td>1</td>\n",
       "    </tr>\n",
       "    <tr>\n",
       "      <th>18402</th>\n",
       "      <td>A / B Otic</td>\n",
       "      <td>Otitis Media</td>\n",
       "      <td>\"It numbs the pain. It makes my ear feel heavier - but at least the throbbing subsides. I always...</td>\n",
       "      <td>1</td>\n",
       "    </tr>\n",
       "  </tbody>\n",
       "</table>\n",
       "</div>"
      ],
      "text/plain": [
       "                         drugName                 condition  \\\n",
       "9892    A + D Cracked Skin Relief  Bacterial Skin Infection   \n",
       "170388                 A / B Otic              Otitis Media   \n",
       "18402                  A / B Otic              Otitis Media   \n",
       "\n",
       "                                                                                                     review  \\\n",
       "9892    \"I have severe cracked skin on my hands.  I've tried many different products - my skin is extrem...   \n",
       "170388  \"These drops helped me so much. I was in severe pain for 8 days before I finally found a doctor ...   \n",
       "18402   \"It numbs the pain. It makes my ear feel heavier - but at least the throbbing subsides. I always...   \n",
       "\n",
       "        label  \n",
       "9892        1  \n",
       "170388      1  \n",
       "18402       1  "
      ]
     },
     "metadata": {},
     "output_type": "display_data"
    },
    {
     "name": "stdout",
     "output_type": "stream",
     "text": [
      "\n",
      "\n",
      "Q3. Class Counts (label, row):\n",
      "label\n",
      "0    122953\n",
      "1      4607\n",
      "Name: count, dtype: int64\n",
      "\n",
      "Q3. Data View: X Train\n"
     ]
    },
    {
     "data": {
      "text/html": [
       "<div>\n",
       "<style scoped>\n",
       "    .dataframe tbody tr th:only-of-type {\n",
       "        vertical-align: middle;\n",
       "    }\n",
       "\n",
       "    .dataframe tbody tr th {\n",
       "        vertical-align: top;\n",
       "    }\n",
       "\n",
       "    .dataframe thead th {\n",
       "        text-align: right;\n",
       "    }\n",
       "</style>\n",
       "<table border=\"1\" class=\"dataframe\">\n",
       "  <thead>\n",
       "    <tr style=\"text-align: right;\">\n",
       "      <th></th>\n",
       "      <th>rating</th>\n",
       "      <th>review</th>\n",
       "      <th>label</th>\n",
       "    </tr>\n",
       "  </thead>\n",
       "  <tbody>\n",
       "    <tr>\n",
       "      <th>9892</th>\n",
       "      <td>10</td>\n",
       "      <td>\"I have severe cracked skin on my hands.  I've tried many different products - my skin is extrem...</td>\n",
       "      <td>0</td>\n",
       "    </tr>\n",
       "    <tr>\n",
       "      <th>170388</th>\n",
       "      <td>10</td>\n",
       "      <td>\"These drops helped me so much. I was in severe pain for 8 days before I finally found  doctor w...</td>\n",
       "      <td>0</td>\n",
       "    </tr>\n",
       "    <tr>\n",
       "      <th>18402</th>\n",
       "      <td>10</td>\n",
       "      <td>\"It numbs the pain. It makes my ear feel heavier - but at least the throbbing subsides. I always...</td>\n",
       "      <td>0</td>\n",
       "    </tr>\n",
       "  </tbody>\n",
       "</table>\n",
       "</div>"
      ],
      "text/plain": [
       "        rating  \\\n",
       "9892        10   \n",
       "170388      10   \n",
       "18402       10   \n",
       "\n",
       "                                                                                                     review  \\\n",
       "9892    \"I have severe cracked skin on my hands.  I've tried many different products - my skin is extrem...   \n",
       "170388  \"These drops helped me so much. I was in severe pain for 8 days before I finally found  doctor w...   \n",
       "18402   \"It numbs the pain. It makes my ear feel heavier - but at least the throbbing subsides. I always...   \n",
       "\n",
       "       label  \n",
       "9892       0  \n",
       "170388     0  \n",
       "18402      0  "
      ]
     },
     "metadata": {},
     "output_type": "display_data"
    }
   ],
   "source": [
    "q1_df, q3_df = convert_labels(cleaned_df, target_drug)\n"
   ]
  },
  {
   "cell_type": "markdown",
   "id": "47d7fe3d",
   "metadata": {},
   "source": [
    "# Q1. Can logistic regression predict drug ratings from user reviews?"
   ]
  },
  {
   "cell_type": "markdown",
   "id": "be333774",
   "metadata": {},
   "source": [
    "## Q1. Splitting"
   ]
  },
  {
   "cell_type": "code",
   "execution_count": 5,
   "id": "e16b1c6d",
   "metadata": {
    "scrolled": false
   },
   "outputs": [
    {
     "name": "stdout",
     "output_type": "stream",
     "text": [
      "\n",
      "********** Splitting Data *****************************\n",
      "\n",
      "Train Data:  (95670, 3)\n",
      "Test Data:  (31890, 3)\n",
      "\n",
      "Class Counts (label, row): Train\n",
      " label\n",
      "1    67285\n",
      "0    28385\n",
      "Name: count, dtype: int64\n",
      "\n",
      "Class Counts (label, row): Test\n",
      " label\n",
      "1    22429\n",
      "0     9461\n",
      "Name: count, dtype: int64\n",
      "\n",
      "Data View: X Train\n"
     ]
    },
    {
     "data": {
      "text/html": [
       "<div>\n",
       "<style scoped>\n",
       "    .dataframe tbody tr th:only-of-type {\n",
       "        vertical-align: middle;\n",
       "    }\n",
       "\n",
       "    .dataframe tbody tr th {\n",
       "        vertical-align: top;\n",
       "    }\n",
       "\n",
       "    .dataframe thead th {\n",
       "        text-align: right;\n",
       "    }\n",
       "</style>\n",
       "<table border=\"1\" class=\"dataframe\">\n",
       "  <thead>\n",
       "    <tr style=\"text-align: right;\">\n",
       "      <th></th>\n",
       "      <th>drugName</th>\n",
       "      <th>condition</th>\n",
       "      <th>review</th>\n",
       "    </tr>\n",
       "  </thead>\n",
       "  <tbody>\n",
       "    <tr>\n",
       "      <th>0</th>\n",
       "      <td>Cymbalta</td>\n",
       "      <td>Chronic Pain</td>\n",
       "      <td>\"I had such terrible pain and lost my ability to walk.  My Doctor put me on cymbalta and within ...</td>\n",
       "    </tr>\n",
       "    <tr>\n",
       "      <th>1</th>\n",
       "      <td>Diethylpropion</td>\n",
       "      <td>Obesity</td>\n",
       "      <td>\"Hi, everyone I wanted to wait until I finish the entire bottle, before I came and did a review....</td>\n",
       "    </tr>\n",
       "    <tr>\n",
       "      <th>2</th>\n",
       "      <td>Oseltamivir</td>\n",
       "      <td>Swine Flu</td>\n",
       "      <td>\"The medicine knocked my fever from 103 to 100 in just a few hours and the intense achiness went...</td>\n",
       "    </tr>\n",
       "  </tbody>\n",
       "</table>\n",
       "</div>"
      ],
      "text/plain": [
       "         drugName     condition  \\\n",
       "0        Cymbalta  Chronic Pain   \n",
       "1  Diethylpropion       Obesity   \n",
       "2     Oseltamivir     Swine Flu   \n",
       "\n",
       "                                                                                                review  \n",
       "0  \"I had such terrible pain and lost my ability to walk.  My Doctor put me on cymbalta and within ...  \n",
       "1  \"Hi, everyone I wanted to wait until I finish the entire bottle, before I came and did a review....  \n",
       "2  \"The medicine knocked my fever from 103 to 100 in just a few hours and the intense achiness went...  "
      ]
     },
     "metadata": {},
     "output_type": "display_data"
    },
    {
     "name": "stdout",
     "output_type": "stream",
     "text": [
      "\n",
      "Data View: X Test\n"
     ]
    },
    {
     "data": {
      "text/html": [
       "<div>\n",
       "<style scoped>\n",
       "    .dataframe tbody tr th:only-of-type {\n",
       "        vertical-align: middle;\n",
       "    }\n",
       "\n",
       "    .dataframe tbody tr th {\n",
       "        vertical-align: top;\n",
       "    }\n",
       "\n",
       "    .dataframe thead th {\n",
       "        text-align: right;\n",
       "    }\n",
       "</style>\n",
       "<table border=\"1\" class=\"dataframe\">\n",
       "  <thead>\n",
       "    <tr style=\"text-align: right;\">\n",
       "      <th></th>\n",
       "      <th>drugName</th>\n",
       "      <th>condition</th>\n",
       "      <th>review</th>\n",
       "    </tr>\n",
       "  </thead>\n",
       "  <tbody>\n",
       "    <tr>\n",
       "      <th>0</th>\n",
       "      <td>Abreva</td>\n",
       "      <td>Herpes Simplex</td>\n",
       "      <td>\"I had a really big blister when I woke up and rushed to WalMart. The only one available was Abr...</td>\n",
       "    </tr>\n",
       "    <tr>\n",
       "      <th>1</th>\n",
       "      <td>Gas-X</td>\n",
       "      <td>Gas</td>\n",
       "      <td>\"For years I suffered with horrible gas pains...Someone suggested gas x. Tried it and in seconds...</td>\n",
       "    </tr>\n",
       "    <tr>\n",
       "      <th>2</th>\n",
       "      <td>Methadone</td>\n",
       "      <td>Chronic Pain</td>\n",
       "      <td>\"After five years of Methadone I am now reducing the doses from three per day to only two per da...</td>\n",
       "    </tr>\n",
       "  </tbody>\n",
       "</table>\n",
       "</div>"
      ],
      "text/plain": [
       "    drugName       condition  \\\n",
       "0     Abreva  Herpes Simplex   \n",
       "1      Gas-X             Gas   \n",
       "2  Methadone    Chronic Pain   \n",
       "\n",
       "                                                                                                review  \n",
       "0  \"I had a really big blister when I woke up and rushed to WalMart. The only one available was Abr...  \n",
       "1  \"For years I suffered with horrible gas pains...Someone suggested gas x. Tried it and in seconds...  \n",
       "2  \"After five years of Methadone I am now reducing the doses from three per day to only two per da...  "
      ]
     },
     "metadata": {},
     "output_type": "display_data"
    }
   ],
   "source": [
    "X_train, X_test, y_train, y_test, q2_test_data = split_data(q1_df)\n"
   ]
  },
  {
   "cell_type": "markdown",
   "id": "1746ba9f",
   "metadata": {},
   "source": [
    "## Q1. Preprocessing"
   ]
  },
  {
   "cell_type": "code",
   "execution_count": 6,
   "id": "8b66502e",
   "metadata": {
    "scrolled": true
   },
   "outputs": [
    {
     "name": "stdout",
     "output_type": "stream",
     "text": [
      "\n",
      "********** Preprocessing Data... ***********************\n",
      "\n",
      "X Data Shape: (95670,)\n",
      "\n",
      "Data View: X Data\n"
     ]
    },
    {
     "data": {
      "text/plain": [
       "0    cymbalta chronic pain i had such terribl pain and lost my abil to walk my doctor put me on cymba...\n",
       "1    diethylpropion obes hi everyon i want to wait until i finish the entir bottl befor i came and di...\n",
       "2    oseltamivir swine flu the medicin knock my fever from 103 to 100 in just a few hour and the inte...\n",
       "dtype: object"
      ]
     },
     "metadata": {},
     "output_type": "display_data"
    }
   ],
   "source": [
    "X_train_processed = preprocess_data(X_train)\n"
   ]
  },
  {
   "cell_type": "markdown",
   "id": "dd280434",
   "metadata": {},
   "source": [
    "## Q1. Model Training"
   ]
  },
  {
   "cell_type": "code",
   "execution_count": 7,
   "id": "d2fedb40",
   "metadata": {
    "scrolled": false
   },
   "outputs": [
    {
     "name": "stdout",
     "output_type": "stream",
     "text": [
      "\n",
      "********** Training Model... ***************************\n"
     ]
    }
   ],
   "source": [
    "q1_lr_model, vectorizer = fit_model(X_train_processed, y_train)\n"
   ]
  },
  {
   "cell_type": "markdown",
   "id": "646fa426",
   "metadata": {},
   "source": [
    "## Q1. Evaulation"
   ]
  },
  {
   "cell_type": "code",
   "execution_count": 8,
   "id": "9740b75a",
   "metadata": {
    "scrolled": false
   },
   "outputs": [
    {
     "name": "stdout",
     "output_type": "stream",
     "text": [
      "\n",
      "********** Preprocessing Data... ***********************\n",
      "\n",
      "X Data Shape: (31890,)\n",
      "\n",
      "Data View: X Data\n"
     ]
    },
    {
     "data": {
      "text/plain": [
       "0    abreva herp simplex i had a realli big blister when i woke up and rush to walmart the onli one a...\n",
       "1    gasx ga for year i suffer with horribl ga painssomeon suggest ga x tri it and in second the pain...\n",
       "2    methadon chronic pain after five year of methadon i am now reduc the dose from three per day to ...\n",
       "dtype: object"
      ]
     },
     "metadata": {},
     "output_type": "display_data"
    },
    {
     "name": "stdout",
     "output_type": "stream",
     "text": [
      "\n",
      "********** Getting Predictions *************************\n",
      "\n",
      "********** Model Evaluation...**************************\n",
      "\n",
      "Rating Prediction Confusion Matrix:\n",
      "\n"
     ]
    },
    {
     "data": {
      "image/png": "[encoded data removed]",
      "text/plain": [
       "<Figure size 200x200 with 2 Axes>"
      ]
     },
     "metadata": {},
     "output_type": "display_data"
    },
    {
     "name": "stdout",
     "output_type": "stream",
     "text": [
      "\n",
      "Rating Prediction Classification Report:\n",
      "\n"
     ]
    },
    {
     "data": {
      "text/html": [
       "<div>\n",
       "<style scoped>\n",
       "    .dataframe tbody tr th:only-of-type {\n",
       "        vertical-align: middle;\n",
       "    }\n",
       "\n",
       "    .dataframe tbody tr th {\n",
       "        vertical-align: top;\n",
       "    }\n",
       "\n",
       "    .dataframe thead th {\n",
       "        text-align: right;\n",
       "    }\n",
       "</style>\n",
       "<table border=\"1\" class=\"dataframe\">\n",
       "  <thead>\n",
       "    <tr style=\"text-align: right;\">\n",
       "      <th></th>\n",
       "      <th>precision</th>\n",
       "      <th>recall</th>\n",
       "      <th>f1-score</th>\n",
       "      <th>support</th>\n",
       "    </tr>\n",
       "  </thead>\n",
       "  <tbody>\n",
       "    <tr>\n",
       "      <th>0</th>\n",
       "      <td>0.761540</td>\n",
       "      <td>0.777719</td>\n",
       "      <td>0.769545</td>\n",
       "      <td>9461.000000</td>\n",
       "    </tr>\n",
       "    <tr>\n",
       "      <th>1</th>\n",
       "      <td>0.905390</td>\n",
       "      <td>0.897276</td>\n",
       "      <td>0.901314</td>\n",
       "      <td>22429.000000</td>\n",
       "    </tr>\n",
       "    <tr>\n",
       "      <th>accuracy</th>\n",
       "      <td>0.861806</td>\n",
       "      <td>0.861806</td>\n",
       "      <td>0.861806</td>\n",
       "      <td>0.861806</td>\n",
       "    </tr>\n",
       "    <tr>\n",
       "      <th>macro avg</th>\n",
       "      <td>0.833465</td>\n",
       "      <td>0.837497</td>\n",
       "      <td>0.835429</td>\n",
       "      <td>31890.000000</td>\n",
       "    </tr>\n",
       "    <tr>\n",
       "      <th>weighted avg</th>\n",
       "      <td>0.862713</td>\n",
       "      <td>0.861806</td>\n",
       "      <td>0.862221</td>\n",
       "      <td>31890.000000</td>\n",
       "    </tr>\n",
       "  </tbody>\n",
       "</table>\n",
       "</div>"
      ],
      "text/plain": [
       "              precision    recall  f1-score       support\n",
       "0              0.761540  0.777719  0.769545   9461.000000\n",
       "1              0.905390  0.897276  0.901314  22429.000000\n",
       "accuracy       0.861806  0.861806  0.861806      0.861806\n",
       "macro avg      0.833465  0.837497  0.835429  31890.000000\n",
       "weighted avg   0.862713  0.861806  0.862221  31890.000000"
      ]
     },
     "metadata": {},
     "output_type": "display_data"
    }
   ],
   "source": [
    "# Process and transform X_test data\n",
    "X_test_processed = preprocess_data(X_test)\n",
    "X_test_transformed = vectorizer.transform(X_test_processed)\n",
    "\n",
    "print(\"\\n********** Getting Predictions *************************\")\n",
    "predictions = q1_lr_model.predict(X_test_transformed)\n",
    "\n",
    "# Evaluate model\n",
    "evaluate_model(predictions, y_test, q1_lr_model, 'Rating Prediction')\n"
   ]
  },
  {
   "cell_type": "markdown",
   "id": "ed0c936b",
   "metadata": {},
   "source": [
    "# Q2. Are depression reviews easier to predict than other conditions?"
   ]
  },
  {
   "cell_type": "markdown",
   "id": "a0de5812",
   "metadata": {},
   "source": [
    "## Q2. Split by Class"
   ]
  },
  {
   "cell_type": "code",
   "execution_count": 9,
   "id": "cb532d7e",
   "metadata": {},
   "outputs": [
    {
     "name": "stdout",
     "output_type": "stream",
     "text": [
      "\n",
      "********** Splitting Data by Class **********************\n",
      "\n",
      "Depression Data:  (2109, 3)\n",
      "Non-Depression Data:  (29781, 3)\n",
      "Birth Control Data:  (4890, 3)\n",
      "\n",
      "Class Counts (label, row): Depression\n",
      " label\n",
      "1    1537\n",
      "0     572\n",
      "Name: count, dtype: int64\n",
      "\n",
      "Class Counts (label, row): Non-Depression\n",
      " label\n",
      "1    20892\n",
      "0     8889\n",
      "Name: count, dtype: int64\n",
      "\n",
      "Class Counts (label, row): Birth Control\n",
      " label\n",
      "1    2822\n",
      "0    2068\n",
      "Name: count, dtype: int64\n",
      "\n",
      "Data View: X Depression\n"
     ]
    },
    {
     "data": {
      "text/html": [
       "<div>\n",
       "<style scoped>\n",
       "    .dataframe tbody tr th:only-of-type {\n",
       "        vertical-align: middle;\n",
       "    }\n",
       "\n",
       "    .dataframe tbody tr th {\n",
       "        vertical-align: top;\n",
       "    }\n",
       "\n",
       "    .dataframe thead th {\n",
       "        text-align: right;\n",
       "    }\n",
       "</style>\n",
       "<table border=\"1\" class=\"dataframe\">\n",
       "  <thead>\n",
       "    <tr style=\"text-align: right;\">\n",
       "      <th></th>\n",
       "      <th>drugName</th>\n",
       "      <th>condition</th>\n",
       "      <th>review</th>\n",
       "    </tr>\n",
       "  </thead>\n",
       "  <tbody>\n",
       "    <tr>\n",
       "      <th>0</th>\n",
       "      <td>Cymbalta</td>\n",
       "      <td>Depression</td>\n",
       "      <td>\"Best I've felt in a long time.\"</td>\n",
       "    </tr>\n",
       "    <tr>\n",
       "      <th>1</th>\n",
       "      <td>Mirtazapine</td>\n",
       "      <td>Depression</td>\n",
       "      <td>\"I've been taking mirtazpine for about 4 years now for depression and insomnia, hearing voices. ...</td>\n",
       "    </tr>\n",
       "    <tr>\n",
       "      <th>2</th>\n",
       "      <td>Mirtazapine</td>\n",
       "      <td>Depression</td>\n",
       "      <td>\"45 mg.Taking this med for depression and anxiety.Insomnia is my main issue. Mirtazapine doesn't...</td>\n",
       "    </tr>\n",
       "  </tbody>\n",
       "</table>\n",
       "</div>"
      ],
      "text/plain": [
       "      drugName   condition  \\\n",
       "0     Cymbalta  Depression   \n",
       "1  Mirtazapine  Depression   \n",
       "2  Mirtazapine  Depression   \n",
       "\n",
       "                                                                                                review  \n",
       "0                                                                     \"Best I've felt in a long time.\"  \n",
       "1  \"I've been taking mirtazpine for about 4 years now for depression and insomnia, hearing voices. ...  \n",
       "2  \"45 mg.Taking this med for depression and anxiety.Insomnia is my main issue. Mirtazapine doesn't...  "
      ]
     },
     "metadata": {},
     "output_type": "display_data"
    },
    {
     "name": "stdout",
     "output_type": "stream",
     "text": [
      "\n",
      "Data View: X Non-Depression\n"
     ]
    },
    {
     "data": {
      "text/html": [
       "<div>\n",
       "<style scoped>\n",
       "    .dataframe tbody tr th:only-of-type {\n",
       "        vertical-align: middle;\n",
       "    }\n",
       "\n",
       "    .dataframe tbody tr th {\n",
       "        vertical-align: top;\n",
       "    }\n",
       "\n",
       "    .dataframe thead th {\n",
       "        text-align: right;\n",
       "    }\n",
       "</style>\n",
       "<table border=\"1\" class=\"dataframe\">\n",
       "  <thead>\n",
       "    <tr style=\"text-align: right;\">\n",
       "      <th></th>\n",
       "      <th>drugName</th>\n",
       "      <th>condition</th>\n",
       "      <th>review</th>\n",
       "    </tr>\n",
       "  </thead>\n",
       "  <tbody>\n",
       "    <tr>\n",
       "      <th>0</th>\n",
       "      <td>Abreva</td>\n",
       "      <td>Herpes Simplex</td>\n",
       "      <td>\"I had a really big blister when I woke up and rushed to WalMart. The only one available was Abr...</td>\n",
       "    </tr>\n",
       "    <tr>\n",
       "      <th>1</th>\n",
       "      <td>Gas-X</td>\n",
       "      <td>Gas</td>\n",
       "      <td>\"For years I suffered with horrible gas pains...Someone suggested gas x. Tried it and in seconds...</td>\n",
       "    </tr>\n",
       "    <tr>\n",
       "      <th>2</th>\n",
       "      <td>Methadone</td>\n",
       "      <td>Chronic Pain</td>\n",
       "      <td>\"After five years of Methadone I am now reducing the doses from three per day to only two per da...</td>\n",
       "    </tr>\n",
       "  </tbody>\n",
       "</table>\n",
       "</div>"
      ],
      "text/plain": [
       "    drugName       condition  \\\n",
       "0     Abreva  Herpes Simplex   \n",
       "1      Gas-X             Gas   \n",
       "2  Methadone    Chronic Pain   \n",
       "\n",
       "                                                                                                review  \n",
       "0  \"I had a really big blister when I woke up and rushed to WalMart. The only one available was Abr...  \n",
       "1  \"For years I suffered with horrible gas pains...Someone suggested gas x. Tried it and in seconds...  \n",
       "2  \"After five years of Methadone I am now reducing the doses from three per day to only two per da...  "
      ]
     },
     "metadata": {},
     "output_type": "display_data"
    },
    {
     "name": "stdout",
     "output_type": "stream",
     "text": [
      "\n",
      "Data View: X Birth Control\n"
     ]
    },
    {
     "data": {
      "text/html": [
       "<div>\n",
       "<style scoped>\n",
       "    .dataframe tbody tr th:only-of-type {\n",
       "        vertical-align: middle;\n",
       "    }\n",
       "\n",
       "    .dataframe tbody tr th {\n",
       "        vertical-align: top;\n",
       "    }\n",
       "\n",
       "    .dataframe thead th {\n",
       "        text-align: right;\n",
       "    }\n",
       "</style>\n",
       "<table border=\"1\" class=\"dataframe\">\n",
       "  <thead>\n",
       "    <tr style=\"text-align: right;\">\n",
       "      <th></th>\n",
       "      <th>drugName</th>\n",
       "      <th>condition</th>\n",
       "      <th>review</th>\n",
       "    </tr>\n",
       "  </thead>\n",
       "  <tbody>\n",
       "    <tr>\n",
       "      <th>0</th>\n",
       "      <td>Drospirenone / ethinyl estradiol</td>\n",
       "      <td>Birth Control</td>\n",
       "      <td>\"This was the second BC I have ever taken. It was absolutely terrible. I have always had light p...</td>\n",
       "    </tr>\n",
       "    <tr>\n",
       "      <th>1</th>\n",
       "      <td>Ethinyl estradiol / norgestimate</td>\n",
       "      <td>Birth Control</td>\n",
       "      <td>\"38 years old. Using for 5 years. Virtually no acne. No weight gain. No pregnancies. Can't imagi...</td>\n",
       "    </tr>\n",
       "    <tr>\n",
       "      <th>2</th>\n",
       "      <td>Ethinyl estradiol / norethindrone</td>\n",
       "      <td>Birth Control</td>\n",
       "      <td>\"Long before I took this I was really moody I did not like to be around anyone  but now since I ...</td>\n",
       "    </tr>\n",
       "  </tbody>\n",
       "</table>\n",
       "</div>"
      ],
      "text/plain": [
       "                            drugName      condition  \\\n",
       "0   Drospirenone / ethinyl estradiol  Birth Control   \n",
       "1   Ethinyl estradiol / norgestimate  Birth Control   \n",
       "2  Ethinyl estradiol / norethindrone  Birth Control   \n",
       "\n",
       "                                                                                                review  \n",
       "0  \"This was the second BC I have ever taken. It was absolutely terrible. I have always had light p...  \n",
       "1  \"38 years old. Using for 5 years. Virtually no acne. No weight gain. No pregnancies. Can't imagi...  \n",
       "2  \"Long before I took this I was really moody I did not like to be around anyone  but now since I ...  "
      ]
     },
     "metadata": {},
     "output_type": "display_data"
    }
   ],
   "source": [
    "X_test_depression, y_test_depression, X_test_other, y_test_other, X_test_birth_control, y_test_birth_control = split_test_by_class(q2_test_data)\n"
   ]
  },
  {
   "cell_type": "markdown",
   "id": "6fa4a559",
   "metadata": {},
   "source": [
    "## Q2. Test Data Preprocessing"
   ]
  },
  {
   "cell_type": "code",
   "execution_count": 10,
   "id": "150105eb",
   "metadata": {
    "scrolled": false
   },
   "outputs": [
    {
     "name": "stdout",
     "output_type": "stream",
     "text": [
      "\n",
      "********** Preprocessing Depression Data... **************\n",
      "\n",
      "********** Preprocessing Data... ***********************\n",
      "\n",
      "X Data Shape: (2109,)\n",
      "\n",
      "Data View: X Data\n"
     ]
    },
    {
     "data": {
      "text/plain": [
       "0                                                          cymbalta depress best ive felt in a long time\n",
       "1    mirtazapin depress ive been take mirtazpin for about 4 year now for depress and insomnia hear vo...\n",
       "2    mirtazapin depress 45 mgtake thi med for depress and anxietyinsomnia is my main issu mirtazapin ...\n",
       "dtype: object"
      ]
     },
     "metadata": {},
     "output_type": "display_data"
    },
    {
     "name": "stdout",
     "output_type": "stream",
     "text": [
      "\n",
      "********** Preprocessing Non-Depression Data... **********\n",
      "\n",
      "********** Preprocessing Data... ***********************\n",
      "\n",
      "X Data Shape: (29781,)\n",
      "\n",
      "Data View: X Data\n"
     ]
    },
    {
     "data": {
      "text/plain": [
       "0    abreva herp simplex i had a realli big blister when i woke up and rush to walmart the onli one a...\n",
       "1    gasx ga for year i suffer with horribl ga painssomeon suggest ga x tri it and in second the pain...\n",
       "2    methadon chronic pain after five year of methadon i am now reduc the dose from three per day to ...\n",
       "dtype: object"
      ]
     },
     "metadata": {},
     "output_type": "display_data"
    },
    {
     "name": "stdout",
     "output_type": "stream",
     "text": [
      "\n",
      "********** Preprocessing Birth Control Data... ************\n",
      "\n",
      "********** Preprocessing Data... ***********************\n",
      "\n",
      "X Data Shape: (4890,)\n",
      "\n",
      "Data View: X Data\n"
     ]
    },
    {
     "data": {
      "text/plain": [
       "0    drospirenon ethinyl estradiol birth control thi wa the second bc i have ever taken it wa absolut...\n",
       "1    ethinyl estradiol norgestim birth control 38 year old use for 5 year virtual no acn no weight ga...\n",
       "2    ethinyl estradiol norethindron birth control long befor i took thi i wa realli moodi i did not l...\n",
       "dtype: object"
      ]
     },
     "metadata": {},
     "output_type": "display_data"
    }
   ],
   "source": [
    "print(\"\\n********** Preprocessing Depression Data... **************\")\n",
    "X_test_depression_processed = preprocess_data(X_test_depression)\n",
    "X_test_depression_transformed = vectorizer.transform(X_test_depression_processed)\n",
    "\n",
    "print(\"\\n********** Preprocessing Non-Depression Data... **********\")\n",
    "X_test_other_processed = preprocess_data(X_test_other)\n",
    "X_test_other_transformed = vectorizer.transform(X_test_other_processed)\n",
    "\n",
    "print(\"\\n********** Preprocessing Birth Control Data... ************\")\n",
    "X_test_birth_control_processed = preprocess_data(X_test_birth_control)\n",
    "X_test_birth_control_transformed = vectorizer.transform(X_test_birth_control_processed)\n"
   ]
  },
  {
   "cell_type": "markdown",
   "id": "fda5690f",
   "metadata": {},
   "source": [
    "## Q2. Evaluation"
   ]
  },
  {
   "cell_type": "code",
   "execution_count": 11,
   "id": "34c9b434",
   "metadata": {
    "scrolled": false
   },
   "outputs": [
    {
     "name": "stdout",
     "output_type": "stream",
     "text": [
      "\n",
      "********** Getting Predictions *************************\n",
      "\n",
      "********** Depression Data Metrics *********************\n",
      "\n",
      "********** Model Evaluation...**************************\n",
      "\n",
      "Depression Confusion Matrix:\n",
      "\n"
     ]
    },
    {
     "data": {
      "image/png": "[encoded data removed]",
      "text/plain": [
       "<Figure size 200x200 with 2 Axes>"
      ]
     },
     "metadata": {},
     "output_type": "display_data"
    },
    {
     "name": "stdout",
     "output_type": "stream",
     "text": [
      "\n",
      "Depression Classification Report:\n",
      "\n"
     ]
    },
    {
     "data": {
      "text/html": [
       "<div>\n",
       "<style scoped>\n",
       "    .dataframe tbody tr th:only-of-type {\n",
       "        vertical-align: middle;\n",
       "    }\n",
       "\n",
       "    .dataframe tbody tr th {\n",
       "        vertical-align: top;\n",
       "    }\n",
       "\n",
       "    .dataframe thead th {\n",
       "        text-align: right;\n",
       "    }\n",
       "</style>\n",
       "<table border=\"1\" class=\"dataframe\">\n",
       "  <thead>\n",
       "    <tr style=\"text-align: right;\">\n",
       "      <th></th>\n",
       "      <th>precision</th>\n",
       "      <th>recall</th>\n",
       "      <th>f1-score</th>\n",
       "      <th>support</th>\n",
       "    </tr>\n",
       "  </thead>\n",
       "  <tbody>\n",
       "    <tr>\n",
       "      <th>0</th>\n",
       "      <td>0.770940</td>\n",
       "      <td>0.788462</td>\n",
       "      <td>0.779602</td>\n",
       "      <td>572.00000</td>\n",
       "    </tr>\n",
       "    <tr>\n",
       "      <th>1</th>\n",
       "      <td>0.920604</td>\n",
       "      <td>0.912817</td>\n",
       "      <td>0.916694</td>\n",
       "      <td>1537.00000</td>\n",
       "    </tr>\n",
       "    <tr>\n",
       "      <th>accuracy</th>\n",
       "      <td>0.879090</td>\n",
       "      <td>0.879090</td>\n",
       "      <td>0.879090</td>\n",
       "      <td>0.87909</td>\n",
       "    </tr>\n",
       "    <tr>\n",
       "      <th>macro avg</th>\n",
       "      <td>0.845772</td>\n",
       "      <td>0.850639</td>\n",
       "      <td>0.848148</td>\n",
       "      <td>2109.00000</td>\n",
       "    </tr>\n",
       "    <tr>\n",
       "      <th>weighted avg</th>\n",
       "      <td>0.880012</td>\n",
       "      <td>0.879090</td>\n",
       "      <td>0.879512</td>\n",
       "      <td>2109.00000</td>\n",
       "    </tr>\n",
       "  </tbody>\n",
       "</table>\n",
       "</div>"
      ],
      "text/plain": [
       "              precision    recall  f1-score     support\n",
       "0              0.770940  0.788462  0.779602   572.00000\n",
       "1              0.920604  0.912817  0.916694  1537.00000\n",
       "accuracy       0.879090  0.879090  0.879090     0.87909\n",
       "macro avg      0.845772  0.850639  0.848148  2109.00000\n",
       "weighted avg   0.880012  0.879090  0.879512  2109.00000"
      ]
     },
     "metadata": {},
     "output_type": "display_data"
    },
    {
     "name": "stdout",
     "output_type": "stream",
     "text": [
      "\n",
      "********** Non-Depression Data Metrics *****************\n",
      "\n",
      "********** Model Evaluation...**************************\n",
      "\n",
      "Non-Depression Confusion Matrix:\n",
      "\n"
     ]
    },
    {
     "data": {
      "image/png": "[encoded data removed]",
      "text/plain": [
       "<Figure size 200x200 with 2 Axes>"
      ]
     },
     "metadata": {},
     "output_type": "display_data"
    },
    {
     "name": "stdout",
     "output_type": "stream",
     "text": [
      "\n",
      "Non-Depression Classification Report:\n",
      "\n"
     ]
    },
    {
     "data": {
      "text/html": [
       "<div>\n",
       "<style scoped>\n",
       "    .dataframe tbody tr th:only-of-type {\n",
       "        vertical-align: middle;\n",
       "    }\n",
       "\n",
       "    .dataframe tbody tr th {\n",
       "        vertical-align: top;\n",
       "    }\n",
       "\n",
       "    .dataframe thead th {\n",
       "        text-align: right;\n",
       "    }\n",
       "</style>\n",
       "<table border=\"1\" class=\"dataframe\">\n",
       "  <thead>\n",
       "    <tr style=\"text-align: right;\">\n",
       "      <th></th>\n",
       "      <th>precision</th>\n",
       "      <th>recall</th>\n",
       "      <th>f1-score</th>\n",
       "      <th>support</th>\n",
       "    </tr>\n",
       "  </thead>\n",
       "  <tbody>\n",
       "    <tr>\n",
       "      <th>0</th>\n",
       "      <td>0.760934</td>\n",
       "      <td>0.777028</td>\n",
       "      <td>0.768897</td>\n",
       "      <td>8889.000000</td>\n",
       "    </tr>\n",
       "    <tr>\n",
       "      <th>1</th>\n",
       "      <td>0.904270</td>\n",
       "      <td>0.896132</td>\n",
       "      <td>0.900183</td>\n",
       "      <td>20892.000000</td>\n",
       "    </tr>\n",
       "    <tr>\n",
       "      <th>accuracy</th>\n",
       "      <td>0.860582</td>\n",
       "      <td>0.860582</td>\n",
       "      <td>0.860582</td>\n",
       "      <td>0.860582</td>\n",
       "    </tr>\n",
       "    <tr>\n",
       "      <th>macro avg</th>\n",
       "      <td>0.832602</td>\n",
       "      <td>0.836580</td>\n",
       "      <td>0.834540</td>\n",
       "      <td>29781.000000</td>\n",
       "    </tr>\n",
       "    <tr>\n",
       "      <th>weighted avg</th>\n",
       "      <td>0.861487</td>\n",
       "      <td>0.860582</td>\n",
       "      <td>0.860997</td>\n",
       "      <td>29781.000000</td>\n",
       "    </tr>\n",
       "  </tbody>\n",
       "</table>\n",
       "</div>"
      ],
      "text/plain": [
       "              precision    recall  f1-score       support\n",
       "0              0.760934  0.777028  0.768897   8889.000000\n",
       "1              0.904270  0.896132  0.900183  20892.000000\n",
       "accuracy       0.860582  0.860582  0.860582      0.860582\n",
       "macro avg      0.832602  0.836580  0.834540  29781.000000\n",
       "weighted avg   0.861487  0.860582  0.860997  29781.000000"
      ]
     },
     "metadata": {},
     "output_type": "display_data"
    },
    {
     "name": "stdout",
     "output_type": "stream",
     "text": [
      "\n",
      "********** Birth Control Data Metrics *******************\n",
      "\n",
      "********** Model Evaluation...**************************\n",
      "\n",
      "Birth Control Confusion Matrix:\n",
      "\n"
     ]
    },
    {
     "data": {
      "image/png": "[encoded data removed]",
      "text/plain": [
       "<Figure size 200x200 with 2 Axes>"
      ]
     },
     "metadata": {},
     "output_type": "display_data"
    },
    {
     "name": "stdout",
     "output_type": "stream",
     "text": [
      "\n",
      "Birth Control Classification Report:\n",
      "\n"
     ]
    },
    {
     "data": {
      "text/html": [
       "<div>\n",
       "<style scoped>\n",
       "    .dataframe tbody tr th:only-of-type {\n",
       "        vertical-align: middle;\n",
       "    }\n",
       "\n",
       "    .dataframe tbody tr th {\n",
       "        vertical-align: top;\n",
       "    }\n",
       "\n",
       "    .dataframe thead th {\n",
       "        text-align: right;\n",
       "    }\n",
       "</style>\n",
       "<table border=\"1\" class=\"dataframe\">\n",
       "  <thead>\n",
       "    <tr style=\"text-align: right;\">\n",
       "      <th></th>\n",
       "      <th>precision</th>\n",
       "      <th>recall</th>\n",
       "      <th>f1-score</th>\n",
       "      <th>support</th>\n",
       "    </tr>\n",
       "  </thead>\n",
       "  <tbody>\n",
       "    <tr>\n",
       "      <th>0</th>\n",
       "      <td>0.788929</td>\n",
       "      <td>0.847679</td>\n",
       "      <td>0.817249</td>\n",
       "      <td>2068.000000</td>\n",
       "    </tr>\n",
       "    <tr>\n",
       "      <th>1</th>\n",
       "      <td>0.881934</td>\n",
       "      <td>0.833806</td>\n",
       "      <td>0.857195</td>\n",
       "      <td>2822.000000</td>\n",
       "    </tr>\n",
       "    <tr>\n",
       "      <th>accuracy</th>\n",
       "      <td>0.839673</td>\n",
       "      <td>0.839673</td>\n",
       "      <td>0.839673</td>\n",
       "      <td>0.839673</td>\n",
       "    </tr>\n",
       "    <tr>\n",
       "      <th>macro avg</th>\n",
       "      <td>0.835431</td>\n",
       "      <td>0.840742</td>\n",
       "      <td>0.837222</td>\n",
       "      <td>4890.000000</td>\n",
       "    </tr>\n",
       "    <tr>\n",
       "      <th>weighted avg</th>\n",
       "      <td>0.842602</td>\n",
       "      <td>0.839673</td>\n",
       "      <td>0.840302</td>\n",
       "      <td>4890.000000</td>\n",
       "    </tr>\n",
       "  </tbody>\n",
       "</table>\n",
       "</div>"
      ],
      "text/plain": [
       "              precision    recall  f1-score      support\n",
       "0              0.788929  0.847679  0.817249  2068.000000\n",
       "1              0.881934  0.833806  0.857195  2822.000000\n",
       "accuracy       0.839673  0.839673  0.839673     0.839673\n",
       "macro avg      0.835431  0.840742  0.837222  4890.000000\n",
       "weighted avg   0.842602  0.839673  0.840302  4890.000000"
      ]
     },
     "metadata": {},
     "output_type": "display_data"
    }
   ],
   "source": [
    "# Reload model from file\n",
    "q2_lr_model_depression = load_model()\n",
    "q2_lr_model_other = load_model()\n",
    "q2_lr_model_birth_control = load_model()\n",
    "\n",
    "print(\"\\n********** Getting Predictions *************************\")\n",
    "depression_predictions = q2_lr_model_depression.predict(X_test_depression_transformed)\n",
    "other_predictions = q2_lr_model_other.predict(X_test_other_transformed)\n",
    "birth_control_predictions = q2_lr_model_birth_control.predict(X_test_birth_control_transformed)\n",
    "\n",
    "print(\"\\n********** Depression Data Metrics *********************\")\n",
    "evaluate_model(depression_predictions, y_test_depression, q2_lr_model_depression, 'Depression')\n",
    "\n",
    "print(\"\\n********** Non-Depression Data Metrics *****************\")\n",
    "evaluate_model(other_predictions, y_test_other, q2_lr_model_other, 'Non-Depression')\n",
    "\n",
    "print(\"\\n********** Birth Control Data Metrics *******************\")\n",
    "evaluate_model(birth_control_predictions, y_test_birth_control, q2_lr_model_birth_control, 'Birth Control')\n"
   ]
  },
  {
   "cell_type": "markdown",
   "id": "1bf71d9f",
   "metadata": {},
   "source": [
    "# Q3. Can logistic regression predict a drug from its rating and review?"
   ]
  },
  {
   "cell_type": "markdown",
   "id": "8b8892aa",
   "metadata": {},
   "source": [
    "## Q3. Splitting"
   ]
  },
  {
   "cell_type": "code",
   "execution_count": 12,
   "id": "45a71f0f",
   "metadata": {},
   "outputs": [
    {
     "name": "stdout",
     "output_type": "stream",
     "text": [
      "\n",
      "********** Splitting Data *****************************\n",
      "\n",
      "Train Data:  (95670, 2)\n",
      "Test Data:  (31890, 2)\n",
      "\n",
      "Class Counts (label, row): Train\n",
      " label\n",
      "0    92215\n",
      "1     3455\n",
      "Name: count, dtype: int64\n",
      "\n",
      "Class Counts (label, row): Test\n",
      " label\n",
      "0    30738\n",
      "1     1152\n",
      "Name: count, dtype: int64\n",
      "\n",
      "Data View: X Train\n"
     ]
    },
    {
     "data": {
      "text/html": [
       "<div>\n",
       "<style scoped>\n",
       "    .dataframe tbody tr th:only-of-type {\n",
       "        vertical-align: middle;\n",
       "    }\n",
       "\n",
       "    .dataframe tbody tr th {\n",
       "        vertical-align: top;\n",
       "    }\n",
       "\n",
       "    .dataframe thead th {\n",
       "        text-align: right;\n",
       "    }\n",
       "</style>\n",
       "<table border=\"1\" class=\"dataframe\">\n",
       "  <thead>\n",
       "    <tr style=\"text-align: right;\">\n",
       "      <th></th>\n",
       "      <th>rating</th>\n",
       "      <th>review</th>\n",
       "    </tr>\n",
       "  </thead>\n",
       "  <tbody>\n",
       "    <tr>\n",
       "      <th>0</th>\n",
       "      <td>10</td>\n",
       "      <td>\"I experienced unremittently high anxiety for almost  year before trying this medication.  Panic...</td>\n",
       "    </tr>\n",
       "    <tr>\n",
       "      <th>1</th>\n",
       "      <td>1</td>\n",
       "      <td>\"Went on starter pack of .  Am on second week now and hands are again horrible, swelling splitti...</td>\n",
       "    </tr>\n",
       "    <tr>\n",
       "      <th>2</th>\n",
       "      <td>8</td>\n",
       "      <td>\"Worked quickly and well. I learned by trial that trimming/filing away dead pieces of nail once ...</td>\n",
       "    </tr>\n",
       "  </tbody>\n",
       "</table>\n",
       "</div>"
      ],
      "text/plain": [
       "   rating  \\\n",
       "0      10   \n",
       "1       1   \n",
       "2       8   \n",
       "\n",
       "                                                                                                review  \n",
       "0  \"I experienced unremittently high anxiety for almost  year before trying this medication.  Panic...  \n",
       "1  \"Went on starter pack of .  Am on second week now and hands are again horrible, swelling splitti...  \n",
       "2  \"Worked quickly and well. I learned by trial that trimming/filing away dead pieces of nail once ...  "
      ]
     },
     "metadata": {},
     "output_type": "display_data"
    },
    {
     "name": "stdout",
     "output_type": "stream",
     "text": [
      "\n",
      "Data View: X Test\n"
     ]
    },
    {
     "data": {
      "text/html": [
       "<div>\n",
       "<style scoped>\n",
       "    .dataframe tbody tr th:only-of-type {\n",
       "        vertical-align: middle;\n",
       "    }\n",
       "\n",
       "    .dataframe tbody tr th {\n",
       "        vertical-align: top;\n",
       "    }\n",
       "\n",
       "    .dataframe thead th {\n",
       "        text-align: right;\n",
       "    }\n",
       "</style>\n",
       "<table border=\"1\" class=\"dataframe\">\n",
       "  <thead>\n",
       "    <tr style=\"text-align: right;\">\n",
       "      <th></th>\n",
       "      <th>rating</th>\n",
       "      <th>review</th>\n",
       "    </tr>\n",
       "  </thead>\n",
       "  <tbody>\n",
       "    <tr>\n",
       "      <th>0</th>\n",
       "      <td>4</td>\n",
       "      <td>\"Irregular inconsistency on pain control . Many break thru pain through  out day . Helps with lo...</td>\n",
       "    </tr>\n",
       "    <tr>\n",
       "      <th>1</th>\n",
       "      <td>9</td>\n",
       "      <td>\"Day 3 of medication and pretty much all BV Symptoms are gone. Thank god!! Hopefully I'll never ...</td>\n",
       "    </tr>\n",
       "    <tr>\n",
       "      <th>2</th>\n",
       "      <td>10</td>\n",
       "      <td>\"This is my second birth control pill. I have been taking  for  year and 3. months now and I lov...</td>\n",
       "    </tr>\n",
       "  </tbody>\n",
       "</table>\n",
       "</div>"
      ],
      "text/plain": [
       "   rating  \\\n",
       "0       4   \n",
       "1       9   \n",
       "2      10   \n",
       "\n",
       "                                                                                                review  \n",
       "0  \"Irregular inconsistency on pain control . Many break thru pain through  out day . Helps with lo...  \n",
       "1  \"Day 3 of medication and pretty much all BV Symptoms are gone. Thank god!! Hopefully I'll never ...  \n",
       "2  \"This is my second birth control pill. I have been taking  for  year and 3. months now and I lov...  "
      ]
     },
     "metadata": {},
     "output_type": "display_data"
    }
   ],
   "source": [
    "X_train, X_test, y_train, y_test, extraneous_q2_test_data = split_data(q3_df)\n"
   ]
  },
  {
   "cell_type": "markdown",
   "id": "43e8e8b7",
   "metadata": {},
   "source": [
    "## Q3. Preprocessing"
   ]
  },
  {
   "cell_type": "code",
   "execution_count": 13,
   "id": "98a173c3",
   "metadata": {},
   "outputs": [
    {
     "name": "stdout",
     "output_type": "stream",
     "text": [
      "\n",
      "********** Preprocessing Data... ***********************\n",
      "\n",
      "X Data Shape: (95670,)\n",
      "\n",
      "Data View: X Data\n"
     ]
    },
    {
     "data": {
      "text/plain": [
       "0    10 i experienc unremitt high anxieti for almost year befor tri thi medic panic attack at least e...\n",
       "1    1 went on starter pack of am on second week now and hand are again horribl swell split open and ...\n",
       "2    8 work quickli and well i learn by trial that trimmingfil away dead piec of nail onc week when r...\n",
       "dtype: object"
      ]
     },
     "metadata": {},
     "output_type": "display_data"
    }
   ],
   "source": [
    "X_train_processed = preprocess_data(X_train)\n"
   ]
  },
  {
   "cell_type": "markdown",
   "id": "9c7e07e9",
   "metadata": {},
   "source": [
    "## Q3. Model Training"
   ]
  },
  {
   "cell_type": "code",
   "execution_count": 14,
   "id": "bfbaeada",
   "metadata": {},
   "outputs": [
    {
     "name": "stdout",
     "output_type": "stream",
     "text": [
      "\n",
      "********** Training Model... ***************************\n"
     ]
    }
   ],
   "source": [
    "q3_lr_model, vectorizer = fit_model(X_train_processed, y_train)\n"
   ]
  },
  {
   "cell_type": "markdown",
   "id": "82002e2f",
   "metadata": {},
   "source": [
    "## Q3. Evaluation"
   ]
  },
  {
   "cell_type": "code",
   "execution_count": 15,
   "id": "fe473d3e",
   "metadata": {
    "scrolled": false
   },
   "outputs": [
    {
     "name": "stdout",
     "output_type": "stream",
     "text": [
      "\n",
      "********** Preprocessing Data... ***********************\n",
      "\n",
      "X Data Shape: (31890,)\n",
      "\n",
      "Data View: X Data\n"
     ]
    },
    {
     "data": {
      "text/plain": [
       "0    4 irregular inconsist on pain control mani break thru pain through out day help with low pain an...\n",
       "1    9 day 3 of medic and pretti much all bv symptom are gone thank god hope ill never need thi again...\n",
       "2    10 thi is my second birth control pill i have been take for year and 3 month now and i love it i...\n",
       "dtype: object"
      ]
     },
     "metadata": {},
     "output_type": "display_data"
    },
    {
     "name": "stdout",
     "output_type": "stream",
     "text": [
      "\n",
      "********** Getting Predictions *************************\n",
      "\n",
      "********** Model Evaluation...**************************\n",
      "\n",
      "Drug (Levonorgestrel) Prediction Confusion Matrix:\n",
      "\n"
     ]
    },
    {
     "data": {
      "image/png": "[encoded data removed]",
      "text/plain": [
       "<Figure size 200x200 with 2 Axes>"
      ]
     },
     "metadata": {},
     "output_type": "display_data"
    },
    {
     "name": "stdout",
     "output_type": "stream",
     "text": [
      "\n",
      "Drug (Levonorgestrel) Prediction Classification Report:\n",
      "\n"
     ]
    },
    {
     "data": {
      "text/html": [
       "<div>\n",
       "<style scoped>\n",
       "    .dataframe tbody tr th:only-of-type {\n",
       "        vertical-align: middle;\n",
       "    }\n",
       "\n",
       "    .dataframe tbody tr th {\n",
       "        vertical-align: top;\n",
       "    }\n",
       "\n",
       "    .dataframe thead th {\n",
       "        text-align: right;\n",
       "    }\n",
       "</style>\n",
       "<table border=\"1\" class=\"dataframe\">\n",
       "  <thead>\n",
       "    <tr style=\"text-align: right;\">\n",
       "      <th></th>\n",
       "      <th>precision</th>\n",
       "      <th>recall</th>\n",
       "      <th>f1-score</th>\n",
       "      <th>support</th>\n",
       "    </tr>\n",
       "  </thead>\n",
       "  <tbody>\n",
       "    <tr>\n",
       "      <th>0</th>\n",
       "      <td>0.992075</td>\n",
       "      <td>0.989589</td>\n",
       "      <td>0.990830</td>\n",
       "      <td>30738.000000</td>\n",
       "    </tr>\n",
       "    <tr>\n",
       "      <th>1</th>\n",
       "      <td>0.739626</td>\n",
       "      <td>0.789062</td>\n",
       "      <td>0.763545</td>\n",
       "      <td>1152.000000</td>\n",
       "    </tr>\n",
       "    <tr>\n",
       "      <th>accuracy</th>\n",
       "      <td>0.982346</td>\n",
       "      <td>0.982346</td>\n",
       "      <td>0.982346</td>\n",
       "      <td>0.982346</td>\n",
       "    </tr>\n",
       "    <tr>\n",
       "      <th>macro avg</th>\n",
       "      <td>0.865850</td>\n",
       "      <td>0.889326</td>\n",
       "      <td>0.877188</td>\n",
       "      <td>31890.000000</td>\n",
       "    </tr>\n",
       "    <tr>\n",
       "      <th>weighted avg</th>\n",
       "      <td>0.982955</td>\n",
       "      <td>0.982346</td>\n",
       "      <td>0.982620</td>\n",
       "      <td>31890.000000</td>\n",
       "    </tr>\n",
       "  </tbody>\n",
       "</table>\n",
       "</div>"
      ],
      "text/plain": [
       "              precision    recall  f1-score       support\n",
       "0              0.992075  0.989589  0.990830  30738.000000\n",
       "1              0.739626  0.789062  0.763545   1152.000000\n",
       "accuracy       0.982346  0.982346  0.982346      0.982346\n",
       "macro avg      0.865850  0.889326  0.877188  31890.000000\n",
       "weighted avg   0.982955  0.982346  0.982620  31890.000000"
      ]
     },
     "metadata": {},
     "output_type": "display_data"
    }
   ],
   "source": [
    "X_test_processed = preprocess_data(X_test)\n",
    "X_test_transformed = vectorizer.transform(X_test_processed)\n",
    "\n",
    "print(\"\\n********** Getting Predictions *************************\")\n",
    "predictions = q3_lr_model.predict(X_test_transformed)\n",
    "\n",
    "evaluate_model(predictions, y_test, q3_lr_model, f'Drug ({target_drug}) Prediction')\n"
   ]
  },
  {
   "cell_type": "code",
   "execution_count": 16,
   "id": "6e4e347b",
   "metadata": {},
   "outputs": [
    {
     "data": {
      "text/html": [
       "\n",
       "                <audio  controls=\"controls\" autoplay=\"autoplay\">\n",
       "                    <source src=\"data:audio/wav;base64,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\" type=\"audio/wav\" />\n",
       "                    Your browser does not support the audio element.\n",
       "                </audio>\n",
       "              "
      ],
      "text/plain": [
       "<IPython.lib.display.Audio object>"
      ]
     },
     "execution_count": 16,
     "metadata": {},
     "output_type": "execute_result"
    }
   ],
   "source": [
    "from IPython.display import Audio\n",
    "\n",
    "def beep():\n",
    "    \"\"\"\n",
    "    Beeps to alert the user when the notebook has finished running\n",
    "    \"\"\"\n",
    "        \n",
    "    # Generate a 1-second beep at 440 Hz (A4 note)\n",
    "    framerate = 44100\n",
    "    duration = 1\n",
    "    frequency = 440\n",
    "    \n",
    "    t = np.linspace(0, duration, int(framerate * duration))\n",
    "    data = np.sin(2 * np.pi * frequency * t)\n",
    "    \n",
    "    return Audio(data, rate=framerate, autoplay=True)\n",
    "\n",
    "beep()"
   ]
  }
 ],
 "metadata": {
  "kernelspec": {
   "display_name": "conda_python3",
   "language": "python",
   "name": "conda_python3"
  },
  "language_info": {
   "codemirror_mode": {
    "name": "ipython",
    "version": 3
   },
   "file_extension": ".py",
   "mimetype": "text/x-python",
   "name": "python",
   "nbconvert_exporter": "python",
   "pygments_lexer": "ipython3",
   "version": "3.10.14"
  }
 },
 "nbformat": 4,
 "nbformat_minor": 5
}
